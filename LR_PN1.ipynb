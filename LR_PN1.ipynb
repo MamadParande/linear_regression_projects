{
 "cells": [
  {
   "cell_type": "code",
   "execution_count": 46,
   "id": "4f8fea32-2f3c-4719-9993-f8135fcdcbe1",
   "metadata": {},
   "outputs": [],
   "source": [
    "import numpy as np\n",
    "import pandas as pd\n",
    "import matplotlib.pyplot as plt\n",
    "import copy\n",
    "import math"
   ]
  },
  {
   "cell_type": "code",
   "execution_count": 47,
   "id": "d4a31197-4d0d-43f7-921f-856e682a0d3e",
   "metadata": {},
   "outputs": [],
   "source": [
    "# فایل CSV رو بخون\n",
    "data = pd.read_csv(\"rounded_hours_student_scores.csv\")"
   ]
  },
  {
   "cell_type": "code",
   "execution_count": 48,
   "id": "806b7e1a-e056-4338-a0ae-33d43aec7154",
   "metadata": {},
   "outputs": [],
   "source": [
    "# ستون‌ها رو جدا کن\n",
    "x_train = data[\"Hours\"].values  # ساعت مطالعه\n",
    "y_train = data[\"Scores\"].values # نمره"
   ]
  },
  {
   "cell_type": "code",
   "execution_count": 49,
   "id": "342e4fd1-085e-4e26-a0a0-69d1dcff75d2",
   "metadata": {},
   "outputs": [
    {
     "name": "stdout",
     "output_type": "stream",
     "text": [
      "Type of x_train: <class 'numpy.ndarray'>\n",
      "First five elements of x_train are:\n",
      " [1.1 1.2 1.4 1.5 1.6]\n"
     ]
    }
   ],
   "source": [
    "# print x_train\n",
    "print(\"Type of x_train:\",type(x_train))\n",
    "print(\"First five elements of x_train are:\\n\", x_train[:5])"
   ]
  },
  {
   "cell_type": "code",
   "execution_count": 50,
   "id": "ef2c33bf-7418-490b-987e-8667e4ccaf63",
   "metadata": {},
   "outputs": [
    {
     "name": "stdout",
     "output_type": "stream",
     "text": [
      "Type of y_train <class 'numpy.ndarray'>\n",
      "First five elements of the y_train are:\n",
      " [41 40 38 39 36]\n"
     ]
    }
   ],
   "source": [
    "#print y_train\n",
    "print(\"Type of y_train\",type(y_train))\n",
    "print(\"First five elements of the y_train are:\\n\", y_train[:5])"
   ]
  },
  {
   "cell_type": "code",
   "execution_count": 51,
   "id": "2fcdf64d-8e2a-48e5-a89b-ebeb8347b7b5",
   "metadata": {},
   "outputs": [
    {
     "name": "stdout",
     "output_type": "stream",
     "text": [
      "The shape of x_train is: (60,)\n",
      "The shape of y_train is:  (60,)\n",
      "Number of training examples (m): 60\n"
     ]
    }
   ],
   "source": [
    "print ('The shape of x_train is:', x_train.shape)\n",
    "print ('The shape of y_train is: ', y_train.shape)\n",
    "print ('Number of training examples (m):', len(x_train))"
   ]
  },
  {
   "cell_type": "code",
   "execution_count": 14,
   "id": "d3289c76-5261-4c26-8a85-6d3bbec1994e",
   "metadata": {},
   "outputs": [
    {
     "name": "stdout",
     "output_type": "stream",
     "text": [
      "   Hours  Scores\n",
      "0    1.1      41\n",
      "1    1.2      40\n",
      "2    1.4      38\n",
      "3    1.5      39\n",
      "4    1.6      36\n"
     ]
    }
   ],
   "source": [
    "print(data.head())  # برای چک کردن"
   ]
  },
  {
   "cell_type": "code",
   "execution_count": 52,
   "id": "75f64276-2d48-42b8-99ed-d9c20367e0bd",
   "metadata": {},
   "outputs": [
    {
     "data": {
      "image/png": "[encoded data removed]",
      "text/plain": [
       "<Figure size 640x480 with 1 Axes>"
      ]
     },
     "metadata": {},
     "output_type": "display_data"
    }
   ],
   "source": [
    "plt.scatter(x_train, y_train, marker='x', c='r')\n",
    "plt.title(\"Study hours vs Student grade\")\n",
    "plt.xlabel(\"Study hours\")\n",
    "plt.ylabel(\"Grade\")\n",
    "plt.show()"
   ]
  },
  {
   "cell_type": "code",
   "execution_count": 53,
   "id": "da6465c5-a246-4fae-aa47-502cc974dd3b",
   "metadata": {},
   "outputs": [],
   "source": [
    "def compute_cost(X, y, w, b):\n",
    "    \"\"\"\n",
    "    here we compute the cost function for the linear regression\n",
    "    as we already know the formula for prediction is: f_wb=w.x+b\n",
    "    but the cost function has error term in order to make that we need a loop:\n",
    "    (f_wb-y)**2/m\n",
    "    \"\"\"\n",
    "    m = X.shape[0]  # number of training examples\n",
    "    cost = 0.0\n",
    "    for i in range(m):                                \n",
    "        f_wb_i = np.dot(X[i], w) + b   # prediction\n",
    "        cost += (f_wb_i - y[i])**2     # squared error\n",
    "\n",
    "    cost = cost / (2*m)\n",
    "    return cost"
   ]
  },
  {
   "cell_type": "code",
   "execution_count": 54,
   "id": "fc977e0d-fd26-4c5d-9982-a84ff081fb05",
   "metadata": {},
   "outputs": [
    {
     "name": "stdout",
     "output_type": "stream",
     "text": [
      "Cost at initial w: 7.590\n"
     ]
    }
   ],
   "source": [
    "initial_w = 1.1\n",
    "initial_b = 40.90\n",
    "cost = compute_cost(x_train, y_train, initial_w, initial_b)\n",
    "print(f'Cost at initial w: {cost:.3f}')"
   ]
  },
  {
   "cell_type": "code",
   "execution_count": 55,
   "id": "a1ee3c24-cc0b-4165-85fa-b8e6c1292d9d",
   "metadata": {},
   "outputs": [],
   "source": [
    "def compute_gradient(x, y, w, b): \n",
    "    \"\"\"\n",
    "    Computes the gradient for linear regression \n",
    "    Args:\n",
    "      x (ndarray): Shape (m,) Input to the model (Population of cities) \n",
    "      y (ndarray): Shape (m,) Label (Actual profits for the cities)\n",
    "      w, b (scalar): Parameters of the model  \n",
    "    Returns\n",
    "      dj_dw (scalar): The gradient of the cost w.r.t. the parameter w\n",
    "      dj_db (scalar): The gradient of the cost w.r.t. the parameter b     \n",
    "    \"\"\"\n",
    "\n",
    "    # Number of training examples\n",
    "    m = x.shape[0]\n",
    "\n",
    "    # Initialize gradients\n",
    "    dj_dw = 0\n",
    "    dj_db = 0\n",
    "\n",
    "    ### START CODE HERE ###\n",
    "    # Loop over examples\n",
    "    for i in range(m):  \n",
    "        # prediction for i-th example\n",
    "        f_wb = w * x[i] + b   \n",
    "\n",
    "        # error\n",
    "        err = f_wb - y[i]\n",
    "\n",
    "        # gradient contribution from i-th example\n",
    "        dj_dw_i = err * x[i]\n",
    "        dj_db_i = err\n",
    "\n",
    "        # accumulate\n",
    "        dj_dw += dj_dw_i\n",
    "        dj_db += dj_db_i\n",
    "\n",
    "    # Average over all examples\n",
    "    dj_dw = dj_dw / m\n",
    "    dj_db = dj_db / m\n",
    "    ### END CODE HERE ### \n",
    "\n",
    "    return dj_dw, dj_db"
   ]
  },
  {
   "cell_type": "code",
   "execution_count": 56,
   "id": "f5b26d33-ad4f-4fd7-8664-2d972ae191af",
   "metadata": {},
   "outputs": [
    {
     "name": "stdout",
     "output_type": "stream",
     "text": [
      "Gradient at initial w, b (zeros): -249.88166666666663 -46.43333333333333\n"
     ]
    }
   ],
   "source": [
    "# Compute and display gradient with w initialized to zeroes\n",
    "initial_w = 0\n",
    "initial_b = 0\n",
    "\n",
    "tmp_dj_dw, tmp_dj_db = compute_gradient(x_train, y_train, initial_w, initial_b)\n",
    "print('Gradient at initial w, b (zeros):', tmp_dj_dw, tmp_dj_db)"
   ]
  },
  {
   "cell_type": "code",
   "execution_count": 57,
   "id": "d808be17-03e6-491c-8bfe-325d30da155f",
   "metadata": {},
   "outputs": [
    {
     "name": "stdout",
     "output_type": "stream",
     "text": [
      "Gradient at test w, b: -242.41213333333337 -45.20333333333333\n"
     ]
    }
   ],
   "source": [
    "# Compute and display cost and gradient with non-zero w\n",
    "test_w = 0.2\n",
    "test_b = 0.2\n",
    "tmp_dj_dw, tmp_dj_db = compute_gradient(x_train, y_train, test_w, test_b)\n",
    "\n",
    "print('Gradient at test w, b:', tmp_dj_dw, tmp_dj_db)"
   ]
  },
  {
   "cell_type": "code",
   "execution_count": 58,
   "id": "912df664-f6b5-448f-b27b-0bd6c4711eea",
   "metadata": {},
   "outputs": [
    {
     "name": "stdout",
     "output_type": "stream",
     "text": [
      "Iteration    0: Cost     4.89\n",
      "Iteration  150: Cost     0.05\n",
      "Iteration  300: Cost     0.04\n",
      "Iteration  450: Cost     0.03\n",
      "Iteration  600: Cost     0.03\n",
      "Iteration  750: Cost     0.03\n",
      "Iteration  900: Cost     0.03\n",
      "Iteration 1050: Cost     0.03\n",
      "Iteration 1200: Cost     0.03\n",
      "Iteration 1350: Cost     0.03\n",
      "\n",
      "Final w,b found by gradient descent:\n",
      " 0.9223602918525887 0.9342580151899068\n"
     ]
    }
   ],
   "source": [
    "# تابع گرادیان دیسنت\n",
    "def gradient_descent(x, y, w_in, b_in, cost_function, gradient_function, alpha, num_iters):\n",
    "    J_history = []\n",
    "    w_history = []\n",
    "    w = copy.deepcopy(w_in)\n",
    "    b = b_in\n",
    "    \n",
    "    for i in range(num_iters):\n",
    "        dj_dw, dj_db = gradient_function(x, y, w, b)\n",
    "\n",
    "        # آپدیت پارامترها\n",
    "        w = w - alpha * dj_dw\n",
    "        b = b - alpha * dj_db\n",
    "\n",
    "        # ذخیره cost\n",
    "        if i < 100000:\n",
    "            cost = cost_function(x, y, w, b)\n",
    "            J_history.append(cost)\n",
    "\n",
    "        # پرینت در هر چند مرحله\n",
    "        if i % math.ceil(num_iters/10) == 0:\n",
    "            w_history.append(w)\n",
    "            print(f\"Iteration {i:4}: Cost {float(J_history[-1]):8.2f}\")\n",
    "    \n",
    "    return w, b, J_history, w_history\n",
    "\n",
    "# ----------- تست روی دیتای نمونه -------------\n",
    "# داده آموزشی\n",
    "x_train = np.array([1.0, 2.0, 3.0, 4.0])   # مثلا ساعت مطالعه\n",
    "y_train = np.array([2.0, 2.5, 4.0, 4.5])   # مثلا نمره دانشجو\n",
    "\n",
    "# مقادیر اولیه\n",
    "initial_w = 0.\n",
    "initial_b = 0.\n",
    "iterations = 1500\n",
    "alpha = 0.01\n",
    "\n",
    "# اجرای گرادیان دیسنت\n",
    "w, b, J_history, w_history = gradient_descent(x_train, y_train,\n",
    "                                              initial_w, initial_b,\n",
    "                                              compute_cost, compute_gradient,\n",
    "                                              alpha, iterations)\n",
    "\n",
    "print(\"\\nFinal w,b found by gradient descent:\\n\", w, b)\n"
   ]
  },
  {
   "cell_type": "code",
   "execution_count": 59,
   "id": "4d5c4a83-5e65-4247-a396-a167986c4dab",
   "metadata": {},
   "outputs": [],
   "source": [
    "m = x_train.shape[0]\n",
    "predicted = np.zeros(m)\n",
    "\n",
    "for i in range(m):\n",
    "    predicted[i] = w * x_train[i] + b"
   ]
  },
  {
   "cell_type": "code",
   "execution_count": 60,
   "id": "1d1c2e5f-b03a-4399-8d0f-ef3030eb8974",
   "metadata": {},
   "outputs": [
    {
     "data": {
      "text/plain": [
       "Text(0.5, 0, 'Study hours')"
      ]
     },
     "execution_count": 60,
     "metadata": {},
     "output_type": "execute_result"
    },
    {
     "data": {
      "image/png": "[encoded data removed]",
      "text/plain": [
       "<Figure size 640x480 with 1 Axes>"
      ]
     },
     "metadata": {},
     "output_type": "display_data"
    }
   ],
   "source": [
    "# Plot the linear fit\n",
    "plt.plot(x_train, predicted, c = \"b\")\n",
    "\n",
    "# Create a scatter plot of the data. \n",
    "plt.scatter(x_train, y_train, marker='x', c='r') \n",
    "\n",
    "# Set the title\n",
    "plt.title(\"Study hours vs Student grade\")\n",
    "# Set the y-axis label\n",
    "plt.ylabel('grade')\n",
    "# Set the x-axis label\n",
    "plt.xlabel('Study hours')"
   ]
  },
  {
   "cell_type": "code",
   "execution_count": 61,
   "id": "b104331d-f110-4bbc-93d7-6bf1faef615c",
   "metadata": {},
   "outputs": [
    {
     "name": "stdout",
     "output_type": "stream",
     "text": [
      "The score is probably around 1.86\n"
     ]
    }
   ],
   "source": [
    "predict1=1*w+b\n",
    "print(f'The score is probably around {predict1:.2f}')"
   ]
  },
  {
   "cell_type": "code",
   "execution_count": null,
   "id": "43d94497-7ca3-4f38-9e04-a08ed1ea2e17",
   "metadata": {},
   "outputs": [],
   "source": []
  }
 ],
 "metadata": {
  "kernelspec": {
   "display_name": "Python 3 (ipykernel)",
   "language": "python",
   "name": "python3"
  },
  "language_info": {
   "codemirror_mode": {
    "name": "ipython",
    "version": 3
   },
   "file_extension": ".py",
   "mimetype": "text/x-python",
   "name": "python",
   "nbconvert_exporter": "python",
   "pygments_lexer": "ipython3",
   "version": "3.13.5"
  }
 },
 "nbformat": 4,
 "nbformat_minor": 5
}
